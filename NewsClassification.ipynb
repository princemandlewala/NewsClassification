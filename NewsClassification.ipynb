{
 "cells": [
  {
   "cell_type": "markdown",
   "metadata": {},
   "source": [
    "# Import packages"
   ]
  },
  {
   "cell_type": "code",
   "execution_count": 140,
   "metadata": {
    "collapsed": true
   },
   "outputs": [],
   "source": [
    "import pandas as pd\n",
    "import numpy as np\n",
    "from sklearn.feature_extraction.text import CountVectorizer, TfidfTransformer, TfidfVectorizer\n",
    "from sklearn.naive_bayes import MultinomialNB\n",
    "from sklearn.cross_validation import train_test_split\n",
    "from textblob.classifiers import NaiveBayesClassifier\n",
    "from sklearn.metrics import confusion_matrix, classification_report\n",
    "from sklearn import svm\n",
    "from nltk.corpus import stopwords\n",
    "from tabulate import tabulate\n",
    "from nltk.stem import PorterStemmer\n",
    "from nltk import word_tokenize\n",
    "from sklearn.pipeline import Pipeline"
   ]
  },
  {
   "cell_type": "markdown",
   "metadata": {},
   "source": [
    "# Utility functions"
   ]
  },
  {
   "cell_type": "code",
   "execution_count": 117,
   "metadata": {
    "collapsed": true
   },
   "outputs": [],
   "source": [
    "def print_correct_percentage(confusionMatrix):\n",
    "    matrix = np.matrix(confusionMatrix)\n",
    "    sum = 0\n",
    "    for i in range(0,5):\n",
    "        sum = sum + confusionMatrix[i,i]\n",
    "    return round(sum/matrix.sum()*100,2)"
   ]
  },
  {
   "cell_type": "markdown",
   "metadata": {},
   "source": [
    "### Classification of news using Multinomial Naive Bayes Classifier"
   ]
  },
  {
   "cell_type": "markdown",
   "metadata": {},
   "source": [
    "### 1). Without removing stop words"
   ]
  },
  {
   "cell_type": "code",
   "execution_count": 118,
   "metadata": {},
   "outputs": [
    {
     "name": "stdout",
     "output_type": "stream",
     "text": [
      "Percentage of news classified correctly using Multinomial Naive Bayes Classifier:  98.65 %\n",
      "               precision    recall  f1-score   support\n",
      "\n",
      "     business       0.99      0.97      0.98       115\n",
      "entertainment       1.00      0.99      0.99        77\n",
      "     politics       0.96      0.99      0.97        74\n",
      "        sport       1.00      1.00      1.00        93\n",
      "         tech       0.98      1.00      0.99        86\n",
      "\n",
      "  avg / total       0.99      0.99      0.99       445\n",
      "\n"
     ]
    }
   ],
   "source": [
    "news = pd.read_csv('D:/datasets/news_classification/dataset.csv', encoding='cp1252')\n",
    "cv = CountVectorizer()\n",
    "newsTrainCv = cv.fit_transform(news.news)\n",
    "tf_transformer = TfidfTransformer(use_idf=True).fit(newsTrainCv)\n",
    "newsTrainCv1 = tf_transformer.transform(newsTrainCv)\n",
    "clf = MultinomialNB(alpha=0.003)\n",
    "news_train, news_test,type_train, type_test = train_test_split(newsTrainCv1,news.type,test_size = 0.2, random_state=20)\n",
    "news_trained = clf.fit(news_train,type_train)\n",
    "news_predicted = news_trained.predict(news_test)\n",
    "confusionMatrix = confusion_matrix(type_test,news_predicted)\n",
    "percentage_NB = print_correct_percentage(confusionMatrix)\n",
    "print(\"Percentage of news classified correctly using Multinomial Naive Bayes Classifier: \", percentage_NB,\"%\")\n",
    "print(classification_report(type_test,news_predicted))"
   ]
  },
  {
   "cell_type": "markdown",
   "metadata": {},
   "source": [
    "### 2). After removing stop words"
   ]
  },
  {
   "cell_type": "code",
   "execution_count": 119,
   "metadata": {},
   "outputs": [
    {
     "name": "stdout",
     "output_type": "stream",
     "text": [
      "Percentage of news classified correctly using Multinomial Naive Bayes Classifier:  99.1 %\n",
      "               precision    recall  f1-score   support\n",
      "\n",
      "     business       0.99      0.98      0.99       115\n",
      "entertainment       1.00      0.99      0.99        77\n",
      "     politics       0.97      0.99      0.98        74\n",
      "        sport       1.00      1.00      1.00        93\n",
      "         tech       0.99      1.00      0.99        86\n",
      "\n",
      "  avg / total       0.99      0.99      0.99       445\n",
      "\n"
     ]
    }
   ],
   "source": [
    "news = pd.read_csv('D:/datasets/news_classification/dataset.csv', encoding='cp1252')\n",
    "stop = set(stopwords.words('english'))\n",
    "list = []\n",
    "for data in news.news:\n",
    "    words = data.split()\n",
    "    s = ''\n",
    "    for w in words:\n",
    "        if w not in stop:\n",
    "            s = s + w + \" \"\n",
    "    list.append(s)\n",
    "newsDataFrame = pd.DataFrame(list,columns=['news'])\n",
    "cv = CountVectorizer()\n",
    "newsTrainCv = cv.fit_transform(newsDataFrame.news)\n",
    "tf_transformer = TfidfTransformer(use_idf=True).fit(newsTrainCv)\n",
    "newsTrainCv1StopWords = tf_transformer.transform(newsTrainCv)\n",
    "clf = MultinomialNB(alpha=0.003)\n",
    "news_train, news_test,type_train, type_test = train_test_split(newsTrainCv1StopWords,news.type,test_size = 0.2, random_state=20)\n",
    "news_trained = clf.fit(news_train,type_train)\n",
    "news_predicted = news_trained.predict(news_test)\n",
    "confusionMatrix = confusion_matrix(type_test,news_predicted)\n",
    "percentage_NB = print_correct_percentage(confusionMatrix)\n",
    "print(\"Percentage of news classified correctly using Multinomial Naive Bayes Classifier: \", percentage_NB,\"%\")\n",
    "print(classification_report(type_test,news_predicted))"
   ]
  },
  {
   "cell_type": "markdown",
   "metadata": {
    "collapsed": true
   },
   "source": [
    "### Classification of news using SVM"
   ]
  },
  {
   "cell_type": "markdown",
   "metadata": {},
   "source": [
    "### 1). Without removing stop words"
   ]
  },
  {
   "cell_type": "code",
   "execution_count": 120,
   "metadata": {},
   "outputs": [
    {
     "name": "stdout",
     "output_type": "stream",
     "text": [
      "Percentage of news classified correctly using Support Vector Classifier:  98.2 %\n",
      "               precision    recall  f1-score   support\n",
      "\n",
      "     business       0.98      0.99      0.98        94\n",
      "entertainment       1.00      0.96      0.98        72\n",
      "     politics       0.99      0.99      0.99        96\n",
      "        sport       0.97      1.00      0.99       103\n",
      "         tech       0.97      0.96      0.97        80\n",
      "\n",
      "  avg / total       0.98      0.98      0.98       445\n",
      "\n"
     ]
    }
   ],
   "source": [
    "clfSVC = svm.LinearSVC(C=0.5)\n",
    "news_train_svc, news_test_svc,type_train_svc, type_test_svc = train_test_split(newsTrainCv1,news.type,test_size = 0.2, random_state=40)\n",
    "news_trained_svc = clfSVC.fit(news_train_svc, type_train_svc)\n",
    "news_predicted_svc = news_trained_svc.predict(news_test_svc)\n",
    "confusionMatrixSVC = confusion_matrix(type_test_svc,news_predicted_svc)\n",
    "percentage_SVC = print_correct_percentage(confusionMatrixSVC)\n",
    "print(\"Percentage of news classified correctly using Support Vector Classifier: \", percentage_SVC,\"%\")\n",
    "print(classification_report(type_test_svc,news_predicted_svc))"
   ]
  },
  {
   "cell_type": "markdown",
   "metadata": {},
   "source": [
    "### 2). After removing stop words"
   ]
  },
  {
   "cell_type": "code",
   "execution_count": 121,
   "metadata": {},
   "outputs": [
    {
     "name": "stdout",
     "output_type": "stream",
     "text": [
      "Percentage of news classified correctly using Support Vector Classifier:  98.43 %\n",
      "               precision    recall  f1-score   support\n",
      "\n",
      "     business       0.97      0.97      0.97        94\n",
      "entertainment       0.99      0.99      0.99        72\n",
      "     politics       0.98      0.99      0.98        96\n",
      "        sport       1.00      1.00      1.00       103\n",
      "         tech       0.99      0.97      0.98        80\n",
      "\n",
      "  avg / total       0.98      0.98      0.98       445\n",
      "\n"
     ]
    }
   ],
   "source": [
    "clfSVC = svm.LinearSVC(C=0.5)\n",
    "news_train_svc, news_test_svc,type_train_svc, type_test_svc = train_test_split(newsTrainCv1StopWords,news.type,test_size = 0.2, random_state=40)\n",
    "news_trained_svc = clfSVC.fit(news_train_svc, type_train_svc)\n",
    "news_predicted_svc = news_trained_svc.predict(news_test_svc)\n",
    "confusionMatrixSVC = confusion_matrix(type_test_svc,news_predicted_svc)\n",
    "percentage_SVC = print_correct_percentage(confusionMatrixSVC)\n",
    "print(\"Percentage of news classified correctly using Support Vector Classifier: \", percentage_SVC,\"%\")\n",
    "print(classification_report(type_test_svc,news_predicted_svc))"
   ]
  }
 ],
 "metadata": {
  "kernelspec": {
   "display_name": "Python 3",
   "language": "python",
   "name": "python3"
  },
  "language_info": {
   "codemirror_mode": {
    "name": "ipython",
    "version": 3
   },
   "file_extension": ".py",
   "mimetype": "text/x-python",
   "name": "python",
   "nbconvert_exporter": "python",
   "pygments_lexer": "ipython3",
   "version": "3.6.1"
  }
 },
 "nbformat": 4,
 "nbformat_minor": 2
}
